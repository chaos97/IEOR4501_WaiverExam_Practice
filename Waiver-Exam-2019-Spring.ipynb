{
 "cells": [
  {
   "cell_type": "markdown",
   "metadata": {},
   "source": [
    "<subject>\n",
    "Homework How-To\n",
    "</subject>\n",
    "\n",
    "<details>\n",
    "\n",
    "**Naming Conventions**\n",
    "\n",
    "When naming your files for upload, you must follow the format below:\n",
    "\n",
    "    <uni>_<assignment>_<details [optional]>.<extension>\n",
    "\n",
    "For example, if I needed to hand in HW 0, any of the below formats would be sufficient for a file name:\n",
    "\n",
    "- pl2648_hw0.txt\n",
    "- pl2648_hw0.sh\n",
    "- pl2648_hw0_all_in_one.txt\n",
    "- Pl2648_hw0_bash_program.sh\n",
    "\n",
    "This naming format allows for autograding of all assignments. If your files are not named with this format, you should expect a grade of zero for the assignment.\n",
    "\n",
    "**Grading**\n",
    "\n",
    "Possible points on late homeworks are deducted by 50% for each day they are late. For example, if you get 80% of the total possible credits on a homework but hand in that homework a day late, you would get 40%. Assignments two days late get zero points.\n",
    "\n",
    "Once solutions are posted and graded assignments are handed back, students have 1 week to bring their grading discrepancies to a CA for consideration of possible grading errors. \n",
    "\n",
    "**Getting Help**\n",
    "\n",
    "Asking for help is a great way to increase your chance of success. However there are some rules. When asking for help (especially from a fellow student), *you can show your helper your code but you can not view theirs*. You work needs to be your own. \n",
    "\n",
    "If you need to reach out to a CA or the Professor for help, please do so via Piazza and not via email. Answers given via Piazza will help you as well as other students. Thus, emails will always have a lower priority for response than Piazza questions. If you do email the professor or TA, please make a note of what section you are in. This helps us identify you in courseworks faster.\n",
    "\n",
    "**Multiple Choice**\n",
    "\n",
    "If the question is multiple choice, you will be given several options to choose from and your function will need to return **one** of those options **verbatim** as a string.\n",
    "\n",
    "For example: \n",
    "\n",
    "Which of the following animals bark?\n",
    "\n",
    "- dogs\n",
    "- cats\n",
    "- fish\n",
    "- trees\n",
    "\n",
    "A correct answer would be structured in the following way:\n",
    "\n",
    "```python\n",
    "def question_animals():\n",
    "    return 'dogs'\n",
    "```\n",
    "\n",
    "You answer will be stripped of left and right white space and lowercased before comparison to the correct answer during grading.\n",
    "</details>"
   ]
  },
  {
   "cell_type": "markdown",
   "metadata": {
    "deletable": false,
    "editable": false,
    "nbgrader": {
     "checksum": "019cf3060c966c587bdf3d06dc43ae44",
     "grade": false,
     "grade_id": "cell-ef5b66d42bd77e43",
     "locked": true,
     "schema_version": 1,
     "solution": false
    }
   },
   "source": [
    "READ ME:\n",
    "\n",
    "Permissions for this test: \n",
    "\n",
    "- No talking until you have left the room.\n",
    "- This is a closed note, closed book, closed internet exam.\n",
    "- You may have one jupyter notebook (this notebook) open for the duration of the exam.\n",
    "- You may have one tab open solely for the act of submitting your exam.\n",
    "\n",
    "To  begin the exam:\n",
    "\n",
    "- **Rename the notebook to be of the form `<uni>_exam`. For example, mine would be `pl2648_exam`.**\n",
    "\n",
    "When you are done with your exam:\n",
    "\n",
    "1. Save this exam.\n",
    "1. Download this exam from your Jupyter Notebook tab as an **`.ipynb`** file.\n",
    "1. Upload/email/etc the **`.ipynb`** file to the submission platform designated by the exam proctor.\n",
    "\n",
    "----\n",
    "\n",
    "Please note, there are several cells in this Jupyter notebook that are empty and read only. Do not attempt to remove them or edit them. They are used in grading your notebook.\n",
    "\n",
    "- DO remove the \"Not Implemented\" lines if you at all attempt the problem.\n",
    "- DO test all cells to make sure they run in 30 seconds or less."
   ]
  },
  {
   "cell_type": "markdown",
   "metadata": {
    "deletable": false,
    "editable": false,
    "nbgrader": {
     "checksum": "d488974ed4f3b3ff061d1cfed37cdce6",
     "grade": false,
     "grade_id": "cell-129aa5426cd81ef8",
     "locked": true,
     "schema_version": 1,
     "solution": false
    }
   },
   "source": [
    "### Question\n",
    "\n",
    "Write a class named `DatabaseConnection`. This class should have a method called `start`. The `start` method should take 1 to 1.5 seconds to run to mimic the delay of connecting to a database. The class should have a single instance level data attribute named `conn` that initializes to `None`. `start` should set this attribute to the `id` of the `DatabaseConnection` object on which `start` was called."
   ]
  },
  {
   "cell_type": "code",
   "execution_count": null,
   "metadata": {
    "deletable": false,
    "nbgrader": {
     "checksum": "903f121f61f7b158f1d2bf28001c692a",
     "grade": false,
     "grade_id": "cell-f6292be44440b141",
     "locked": false,
     "schema_version": 1,
     "solution": true
    }
   },
   "outputs": [],
   "source": [
    "# YOUR CODE HERE\n",
    "raise NotImplementedError()"
   ]
  },
  {
   "cell_type": "code",
   "execution_count": null,
   "metadata": {
    "deletable": false,
    "editable": false,
    "nbgrader": {
     "checksum": "35b2424fa6161620d7d783d6db094a6e",
     "grade": true,
     "grade_id": "cell-5f96a0a457e8e683",
     "locked": true,
     "points": 1,
     "schema_version": 1,
     "solution": false
    }
   },
   "outputs": [],
   "source": []
  },
  {
   "cell_type": "code",
   "execution_count": null,
   "metadata": {
    "deletable": false,
    "editable": false,
    "nbgrader": {
     "checksum": "b720237e124ea577e03a868705784fdc",
     "grade": true,
     "grade_id": "cell-3dbb9b42ee84c45c",
     "locked": true,
     "points": 1,
     "schema_version": 1,
     "solution": false
    }
   },
   "outputs": [],
   "source": []
  },
  {
   "cell_type": "code",
   "execution_count": null,
   "metadata": {
    "deletable": false,
    "editable": false,
    "nbgrader": {
     "checksum": "b9f01cacd606ae43a562457f6a3ca958",
     "grade": true,
     "grade_id": "cell-5522a574dfe4aee0",
     "locked": true,
     "points": 1,
     "schema_version": 1,
     "solution": false
    }
   },
   "outputs": [],
   "source": []
  },
  {
   "cell_type": "code",
   "execution_count": null,
   "metadata": {
    "deletable": false,
    "editable": false,
    "nbgrader": {
     "checksum": "e5d3cfd4d3062a2aaf3abebe20e00ea0",
     "grade": true,
     "grade_id": "cell-8aa171dd5937dad5",
     "locked": true,
     "points": 1,
     "schema_version": 1,
     "solution": false
    }
   },
   "outputs": [],
   "source": []
  },
  {
   "cell_type": "markdown",
   "metadata": {
    "deletable": false,
    "editable": false,
    "nbgrader": {
     "checksum": "d167cf7d26a0f011286ca37c1f31d164",
     "grade": false,
     "grade_id": "cell-9a7e22503982d594",
     "locked": true,
     "schema_version": 1,
     "solution": false
    }
   },
   "source": [
    "### Question \n",
    "\n",
    "Create a function named `iterable_to_dict`. This function should take any iterable and add its members to a dictionary as members of lists where the member containing lists are the values of the dictionary. The key for each value (each list) should be the first list item's address in memory expressed as a hex address string. If a value for the optional keyword argument `key_func` is passed to the function, the `key_func` should be used to determine an item's key. Each item should be passed to `key_func` to determine the list's key. If there is a key collision, the list of items for a particular key should be increased to include the new item.\n",
    "\n",
    "For example:\n",
    "\n",
    "```python\n",
    "iterable_to_dict((1, 2, 3, 4, 5))\n",
    "{'0x109258440': [1],\n",
    " '0x109258460': [2],\n",
    " '0x109258480': [3],\n",
    " '0x1092584a0': [4],\n",
    " '0x1092584c0': [5]}\n",
    "\n",
    "\n",
    "iterable_to_dict((1, 2, 3, 4, 5), key_func=lambda x: 'a')\n",
    "{'a': [1, 2, 3, 4, 5]}\n",
    "```"
   ]
  },
  {
   "cell_type": "code",
   "execution_count": null,
   "metadata": {
    "deletable": false,
    "nbgrader": {
     "checksum": "e15494fb93acab3f62e55b2b747e1bf6",
     "grade": false,
     "grade_id": "cell-9a0363302483e2d1",
     "locked": false,
     "schema_version": 1,
     "solution": true
    }
   },
   "outputs": [],
   "source": [
    "# YOUR CODE HERE\n",
    "raise NotImplementedError()"
   ]
  },
  {
   "cell_type": "code",
   "execution_count": null,
   "metadata": {
    "deletable": false,
    "editable": false,
    "nbgrader": {
     "checksum": "b3e42f71b5500cf58741196adc009662",
     "grade": true,
     "grade_id": "cell-9efae76d7cc2794e",
     "locked": true,
     "points": 1,
     "schema_version": 1,
     "solution": false
    }
   },
   "outputs": [],
   "source": []
  },
  {
   "cell_type": "code",
   "execution_count": null,
   "metadata": {
    "deletable": false,
    "editable": false,
    "nbgrader": {
     "checksum": "cfd8b1b05ef4ede3f9c9f5e0a7d561af",
     "grade": true,
     "grade_id": "cell-755c9190b5a51c9b",
     "locked": true,
     "points": 1,
     "schema_version": 1,
     "solution": false
    }
   },
   "outputs": [],
   "source": []
  },
  {
   "cell_type": "code",
   "execution_count": null,
   "metadata": {
    "deletable": false,
    "editable": false,
    "nbgrader": {
     "checksum": "31006902c287a70ee1f884c6eedc899f",
     "grade": true,
     "grade_id": "cell-8e8d94dca63e0546",
     "locked": true,
     "points": 1,
     "schema_version": 1,
     "solution": false
    }
   },
   "outputs": [],
   "source": []
  },
  {
   "cell_type": "markdown",
   "metadata": {
    "deletable": false,
    "editable": false,
    "nbgrader": {
     "checksum": "06f412d9632cbee6d750695da0ac721a",
     "grade": false,
     "grade_id": "cell-13fa838cb24b1967",
     "locked": true,
     "schema_version": 1,
     "solution": false
    }
   },
   "source": [
    "### Question\n",
    "\n",
    "\n",
    "Nginx is a program for serving web pages. It produces logs where each line in the log is of the form:\n",
    "\n",
    "```\n",
    "54.198.150.62 - - [20/Dec/2018:06:25:12 +0000] \"GET /path/to/file/ HTTP/1.1\" 200 927 \"-\" \"Faraday v0.12.2\"\n",
    "```\n",
    "\n",
    "The portions of each line are:\n",
    "\n",
    "- the IP address [54.198.150.62]\n",
    "- two dashes [- -]\n",
    "- the datetime (with timezone)[[20/Dec/2018:06:25:12 +0000]]\n",
    "- the accessed path (with access method and http version) [\"GET /path/to/file/ HTTP/1.1\"]\n",
    "- the server's return code [200]\n",
    "- the size of the returned page in bytes [927]\n",
    "- the referrer (sometimes just a dash) [\"-\"]\n",
    "- the user agent (sometimes just a dash) [\"Faraday v0.12.2\"]\n",
    "\n",
    "Write a regex expression to parse nginx log lines like the one above. The regex needs to capture named groups. The named groups should be `ip`, `datetime`, `method`, `path`, `code`. The `datetime` group should include the timezone information. If the line above were passed through the regex pattern, the following match object would result:\n",
    "\n",
    "- match.group('ip') -> '54.198.150.62'\n",
    "- match.group('datetime') -> '20/Dec/2018:06:25:12 +0000'\n",
    "- match.group('method') -> 'GET'\n",
    "- match.group('path') -> '/path/to/file/'\n",
    "- match.group('code') -> '200'\n"
   ]
  },
  {
   "cell_type": "code",
   "execution_count": null,
   "metadata": {
    "deletable": false,
    "nbgrader": {
     "checksum": "106039d2e9e7a0a8396bc7df4fe1ba0b",
     "grade": false,
     "grade_id": "re",
     "locked": false,
     "schema_version": 1,
     "solution": true
    }
   },
   "outputs": [],
   "source": [
    "import re\n",
    "\n",
    "def parse_log_line(log_line):\n",
    "    # YOUR CODE HERE\n",
    "    raise NotImplementedError()\n",
    "    return re.match(pattern_string, log_line)"
   ]
  },
  {
   "cell_type": "code",
   "execution_count": null,
   "metadata": {
    "deletable": false,
    "editable": false,
    "nbgrader": {
     "checksum": "cf3c862c1821ee54a37394b7214a1f33",
     "grade": true,
     "grade_id": "cell-2cf89dead6cbc6dd",
     "locked": true,
     "points": 1,
     "schema_version": 1,
     "solution": false
    }
   },
   "outputs": [],
   "source": []
  },
  {
   "cell_type": "code",
   "execution_count": null,
   "metadata": {
    "deletable": false,
    "editable": false,
    "nbgrader": {
     "checksum": "f5bd91053886cbcc0d38a3a6ab47b87b",
     "grade": true,
     "grade_id": "cell-eedca7e1c0c87482",
     "locked": true,
     "points": 1,
     "schema_version": 1,
     "solution": false
    }
   },
   "outputs": [],
   "source": []
  },
  {
   "cell_type": "code",
   "execution_count": null,
   "metadata": {
    "deletable": false,
    "editable": false,
    "nbgrader": {
     "checksum": "7f7723f8802ee86e34a6ced4beba9fb6",
     "grade": true,
     "grade_id": "cell-24b78f75ff5a2ee3",
     "locked": true,
     "points": 1,
     "schema_version": 1,
     "solution": false
    }
   },
   "outputs": [],
   "source": []
  },
  {
   "cell_type": "code",
   "execution_count": null,
   "metadata": {
    "deletable": false,
    "editable": false,
    "nbgrader": {
     "checksum": "506004ce346c2c99fb41950869714ef3",
     "grade": true,
     "grade_id": "cell-3bee4aa39f0af414",
     "locked": true,
     "points": 1,
     "schema_version": 1,
     "solution": false
    }
   },
   "outputs": [],
   "source": []
  },
  {
   "cell_type": "code",
   "execution_count": null,
   "metadata": {
    "deletable": false,
    "editable": false,
    "nbgrader": {
     "checksum": "bc09735b9cc4d37c95a2fd7223333c4b",
     "grade": true,
     "grade_id": "cell-46c1f5f5cf5e04af",
     "locked": true,
     "points": 1,
     "schema_version": 1,
     "solution": false
    }
   },
   "outputs": [],
   "source": []
  },
  {
   "cell_type": "markdown",
   "metadata": {
    "deletable": false,
    "editable": false,
    "nbgrader": {
     "checksum": "e8dea7f21b1c580d7cb14dba9b96d7c8",
     "grade": false,
     "grade_id": "cell-8e75d108b8f942eb",
     "locked": true,
     "schema_version": 1,
     "solution": false
    }
   },
   "source": [
    "### Question\n",
    "\n",
    "Create a function called `binary_search`. It should take an `item` and a `sorted_list` as its two positional arguments. They must be defined in that order.\n",
    "\n",
    "Return `True` if `item` is in `sorted_list` and `False` if not. Your function must implement the binary_search algorithm using recursion. Assume that all members of `sorted_list` are integers. If you use except clauses, they must not be bare (ie. they must catch one or more specific error types)."
   ]
  },
  {
   "cell_type": "code",
   "execution_count": null,
   "metadata": {
    "deletable": false,
    "nbgrader": {
     "checksum": "bef7296ff187b9c302910f4ac1466cfb",
     "grade": false,
     "grade_id": "cell-acf00b5f7ee7b460",
     "locked": false,
     "schema_version": 1,
     "solution": true
    }
   },
   "outputs": [],
   "source": [
    "# YOUR CODE HERE\n",
    "raise NotImplementedError()"
   ]
  },
  {
   "cell_type": "code",
   "execution_count": null,
   "metadata": {
    "deletable": false,
    "editable": false,
    "nbgrader": {
     "checksum": "f18fe234023485c215bfaff188efc149",
     "grade": true,
     "grade_id": "cell-adf4b387b1291f65",
     "locked": true,
     "points": 1,
     "schema_version": 1,
     "solution": false
    }
   },
   "outputs": [],
   "source": []
  },
  {
   "cell_type": "code",
   "execution_count": null,
   "metadata": {
    "deletable": false,
    "editable": false,
    "nbgrader": {
     "checksum": "3348fb3a972adcefed67eda01c94d0a2",
     "grade": true,
     "grade_id": "cell-7562392f1adac552",
     "locked": true,
     "points": 1,
     "schema_version": 1,
     "solution": false
    }
   },
   "outputs": [],
   "source": []
  },
  {
   "cell_type": "code",
   "execution_count": null,
   "metadata": {
    "deletable": false,
    "editable": false,
    "nbgrader": {
     "checksum": "d5281b103e0fd08333aedf4990a2ebd3",
     "grade": true,
     "grade_id": "cell-0eec1e0f984bf424",
     "locked": true,
     "points": 0,
     "schema_version": 1,
     "solution": false
    }
   },
   "outputs": [],
   "source": []
  },
  {
   "cell_type": "code",
   "execution_count": null,
   "metadata": {
    "deletable": false,
    "editable": false,
    "nbgrader": {
     "checksum": "cd66eb3446bee0a9d675d85146802cf7",
     "grade": true,
     "grade_id": "cell-65abe2c0f3e9af4f",
     "locked": true,
     "points": 1,
     "schema_version": 1,
     "solution": false
    }
   },
   "outputs": [],
   "source": []
  }
 ],
 "metadata": {
  "anaconda-cloud": {},
  "kernelspec": {
   "display_name": "Python 3",
   "language": "python",
   "name": "python3"
  },
  "language_info": {
   "codemirror_mode": {
    "name": "ipython",
    "version": 3
   },
   "file_extension": ".py",
   "mimetype": "text/x-python",
   "name": "python",
   "nbconvert_exporter": "python",
   "pygments_lexer": "ipython3",
   "version": "3.7.3"
  }
 },
 "nbformat": 4,
 "nbformat_minor": 2
}
